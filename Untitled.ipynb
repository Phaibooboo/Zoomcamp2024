{
 "cells": [
  {
   "cell_type": "code",
   "execution_count": 1,
   "id": "ff6ebbf9-0501-4c67-87c2-cc7462bf6a72",
   "metadata": {},
   "outputs": [
    {
     "name": "stdout",
     "output_type": "stream",
     "text": [
      "Hello world codespaces\n"
     ]
    }
   ],
   "source": [
    "print('Hello world codespaces')"
   ]
  },
  {
   "cell_type": "code",
   "execution_count": null,
   "id": "fb3dac8c-2d3c-47fa-98e5-99c1bf436dd9",
   "metadata": {},
   "outputs": [],
   "source": []
  }
 ],
 "metadata": {
  "kernelspec": {
   "display_name": "Python 3 (ipykernel)",
   "language": "python",
   "name": "python3"
  },
  "language_info": {
   "codemirror_mode": {
    "name": "ipython",
    "version": 3
   },
   "file_extension": ".py",
   "mimetype": "text/x-python",
   "name": "python",
   "nbconvert_exporter": "python",
   "pygments_lexer": "ipython3",
   "version": "3.10.13"
  }
 },
 "nbformat": 4,
 "nbformat_minor": 5
}
